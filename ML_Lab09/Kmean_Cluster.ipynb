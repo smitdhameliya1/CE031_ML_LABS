{
  "nbformat": 4,
  "nbformat_minor": 0,
  "metadata": {
    "colab": {
      "provenance": []
    },
    "kernelspec": {
      "name": "python3",
      "display_name": "Python 3"
    },
    "language_info": {
      "name": "python"
    }
  },
  "cells": [
    {
      "cell_type": "code",
      "execution_count": 1,
      "metadata": {
        "id": "A9Ja4XPWB3O1"
      },
      "outputs": [],
      "source": [
        "import numpy as np\n",
        "from sklearn.cluster import KMeans"
      ]
    },
    {
      "cell_type": "code",
      "source": [
        "from sklearn.datasets import make_blobs"
      ],
      "metadata": {
        "id": "5VFqKoRwD1lp"
      },
      "execution_count": 2,
      "outputs": []
    },
    {
      "cell_type": "code",
      "source": [
        "X,y=make_blobs(n_features=2,cluster_std=0.2,random_state=0,n_samples=200,centers=3)"
      ],
      "metadata": {
        "id": "W7dsywvXD-R_"
      },
      "execution_count": 3,
      "outputs": []
    },
    {
      "cell_type": "code",
      "source": [
        "X"
      ],
      "metadata": {
        "colab": {
          "base_uri": "https://localhost:8080/"
        },
        "id": "WjVfg3IdEUBI",
        "outputId": "1d72d0e2-dfe4-4304-8826-313244aa35e9"
      },
      "execution_count": 4,
      "outputs": [
        {
          "output_type": "execute_result",
          "data": {
            "text/plain": [
              "array([[-1.56828475,  3.09391804],\n",
              "       [ 0.90668765,  4.33505712],\n",
              "       [ 1.00725956,  4.37941983],\n",
              "       [-1.50735902,  3.034473  ],\n",
              "       [ 1.03591771,  4.56906451],\n",
              "       [-1.37225342,  2.68110613],\n",
              "       [ 2.1594805 ,  0.78250607],\n",
              "       [ 1.95566103,  1.28357007],\n",
              "       [ 1.0016525 ,  4.3841852 ],\n",
              "       [-1.56503471,  2.83891236],\n",
              "       [ 0.89563469,  4.54827634],\n",
              "       [-1.38814938,  2.88596757],\n",
              "       [ 1.12847762,  4.32812233],\n",
              "       [ 1.05547142,  4.08517503],\n",
              "       [ 0.79481041,  4.31417641],\n",
              "       [-1.41344596,  2.87334724],\n",
              "       [ 2.21253311,  0.80437984],\n",
              "       [ 2.08365815,  0.83379798],\n",
              "       [ 0.81364082,  3.95853081],\n",
              "       [-1.93304091,  3.33078083],\n",
              "       [-1.41119971,  2.98781315],\n",
              "       [ 1.90631656,  0.73237595],\n",
              "       [ 0.98542178,  4.26635056],\n",
              "       [ 1.16572047,  4.27278531],\n",
              "       [-1.97801686,  2.71338089],\n",
              "       [ 0.65349051,  4.26123927],\n",
              "       [ 1.92654384,  0.45298303],\n",
              "       [-1.6797328 ,  2.63032397],\n",
              "       [-1.35531923,  3.14610263],\n",
              "       [-1.53922929,  2.89642121],\n",
              "       [ 1.06940257,  3.99653859],\n",
              "       [ 0.97837008,  4.66096143],\n",
              "       [-1.5353383 ,  2.86050482],\n",
              "       [ 0.89354628,  4.15429637],\n",
              "       [ 1.89259467,  0.60437879],\n",
              "       [ 2.16004573,  0.91534808],\n",
              "       [ 1.04754336,  4.44510196],\n",
              "       [ 2.11125244,  0.87803358],\n",
              "       [ 2.18329383,  0.57427245],\n",
              "       [-1.89551792,  2.82228746],\n",
              "       [ 1.86637827,  0.81565372],\n",
              "       [-1.65738573,  2.83969159],\n",
              "       [-1.8806117 ,  2.98897862],\n",
              "       [-1.38894038,  3.17825151],\n",
              "       [ 1.34978187,  4.48499626],\n",
              "       [ 1.22232821,  4.5442633 ],\n",
              "       [ 0.84140355,  4.31015344],\n",
              "       [-1.31320213,  2.8272051 ],\n",
              "       [ 0.7416454 ,  4.69251156],\n",
              "       [ 0.98957352,  4.36428171],\n",
              "       [ 0.84940566,  4.23123909],\n",
              "       [ 2.02869141,  0.83810548],\n",
              "       [-1.65736273,  2.8136444 ],\n",
              "       [-1.55843742,  3.36922696],\n",
              "       [-1.54901214,  3.1219168 ],\n",
              "       [-1.59759036,  2.59458742],\n",
              "       [ 2.08656883,  0.94409987],\n",
              "       [ 2.23943929,  0.96140919],\n",
              "       [ 1.09158824,  4.26212758],\n",
              "       [ 1.27392052,  4.68296516],\n",
              "       [-1.79375571,  2.64853876],\n",
              "       [-1.19727703,  2.95072781],\n",
              "       [ 0.97063363,  4.3894537 ],\n",
              "       [ 1.93580431,  0.85007931],\n",
              "       [ 1.98143115,  0.84978782],\n",
              "       [-1.46963528,  3.03965103],\n",
              "       [ 1.74710812,  0.91031606],\n",
              "       [ 1.87270308,  1.12106692],\n",
              "       [-1.5191779 ,  2.58653924],\n",
              "       [ 2.0416192 ,  1.2403322 ],\n",
              "       [ 1.99346493,  0.5624629 ],\n",
              "       [ 0.76211955,  4.51467767],\n",
              "       [ 0.88923937,  4.67364007],\n",
              "       [-1.60679382,  2.99189344],\n",
              "       [ 0.72571101,  4.4592854 ],\n",
              "       [-1.51700502,  3.01664962],\n",
              "       [ 1.96416102,  0.90115949],\n",
              "       [ 2.50712931,  0.88921223],\n",
              "       [ 1.86407852,  0.8284673 ],\n",
              "       [-2.05873846,  3.03914617],\n",
              "       [-1.65252153,  2.82167684],\n",
              "       [ 1.01175531,  4.22343114],\n",
              "       [ 0.95562631,  4.38590703],\n",
              "       [ 2.53189648,  1.08655956],\n",
              "       [ 2.15992285,  0.86335439],\n",
              "       [ 1.14915732,  4.15535432],\n",
              "       [ 0.87433964,  4.21617247],\n",
              "       [-1.59984272,  2.94922303],\n",
              "       [ 0.80402494,  4.68580032],\n",
              "       [ 2.08860222,  1.02466995],\n",
              "       [-1.75837507,  2.85542381],\n",
              "       [-1.37746635,  2.68009327],\n",
              "       [ 2.13507679,  0.34314511],\n",
              "       [ 0.80211065,  4.18801739],\n",
              "       [ 2.29287348,  0.96105218],\n",
              "       [ 0.9226694 ,  4.46427861],\n",
              "       [ 1.05673841,  4.16682531],\n",
              "       [-1.55053682,  2.78184662],\n",
              "       [-1.66447154,  2.67506678],\n",
              "       [ 2.19357527,  1.03661349],\n",
              "       [ 1.98446874,  0.6226734 ],\n",
              "       [ 1.28282592,  4.59765908],\n",
              "       [-1.62283518,  3.04195392],\n",
              "       [ 0.84177799,  4.2318767 ],\n",
              "       [-1.55364433,  3.13343102],\n",
              "       [ 0.65023041,  4.39634378],\n",
              "       [ 2.27519944,  1.02871641],\n",
              "       [ 0.79717677,  4.38116783],\n",
              "       [ 0.46567212,  4.43451105],\n",
              "       [ 1.90735492,  1.20626658],\n",
              "       [ 0.87410905,  4.06766089],\n",
              "       [-1.25399764,  2.77999242],\n",
              "       [ 1.79208604,  0.80534674],\n",
              "       [-1.23358827,  3.08839265],\n",
              "       [ 0.89880472,  4.24332678],\n",
              "       [ 1.06504273,  4.37052219],\n",
              "       [ 1.20415022,  4.05682216],\n",
              "       [ 2.24515168,  0.91517391],\n",
              "       [-1.6466348 ,  2.69470286],\n",
              "       [-1.53004044,  2.95006789],\n",
              "       [ 1.93600471,  0.8871502 ],\n",
              "       [ 1.96254833,  0.99395995],\n",
              "       [-1.39824112,  2.60375758],\n",
              "       [ 1.05155518,  4.08390717],\n",
              "       [ 1.92778012,  0.8182093 ],\n",
              "       [ 0.76655949,  4.01978374],\n",
              "       [-1.87808213,  3.00806915],\n",
              "       [ 1.66801156,  0.93541938],\n",
              "       [-1.75226917,  2.77174671],\n",
              "       [ 1.09908595,  4.48822866],\n",
              "       [-1.47081567,  2.71925754],\n",
              "       [ 1.84841895,  1.03398256],\n",
              "       [ 1.77045534,  0.79899968],\n",
              "       [ 1.757016  ,  0.985542  ],\n",
              "       [ 1.11072903,  4.38527969],\n",
              "       [ 1.99309029,  0.91714369],\n",
              "       [ 2.03557702,  0.764968  ],\n",
              "       [ 1.16628776,  4.27351589],\n",
              "       [ 1.85522445,  0.58870944],\n",
              "       [-1.42815566,  2.89466147],\n",
              "       [-1.55409395,  3.14526053],\n",
              "       [-1.61508854,  2.86181116],\n",
              "       [ 1.27508589,  4.26275567],\n",
              "       [ 1.81749567,  0.79630039],\n",
              "       [ 2.22663364,  0.76745854],\n",
              "       [ 0.91395957,  4.3150204 ],\n",
              "       [-1.66784407,  3.10653441],\n",
              "       [-1.78820938,  3.2495084 ],\n",
              "       [ 1.83439085,  0.90809668],\n",
              "       [ 0.84910086,  4.43907399],\n",
              "       [ 2.04741096,  0.66404496],\n",
              "       [-1.73595469,  3.16011132],\n",
              "       [-1.66531398,  3.22515767],\n",
              "       [-1.72400616,  2.62351526],\n",
              "       [ 1.12208819,  4.32958391],\n",
              "       [ 2.48791471,  1.16496925],\n",
              "       [ 2.20962563,  1.06236449],\n",
              "       [ 1.94669523,  0.98087367],\n",
              "       [ 0.83735651,  4.27386042],\n",
              "       [ 0.74324011,  4.48395262],\n",
              "       [-1.06612067,  2.7058791 ],\n",
              "       [-1.35857776,  2.86799055],\n",
              "       [-1.47200074,  2.73969924],\n",
              "       [-1.60387998,  2.93675258],\n",
              "       [ 1.21202599,  4.26780236],\n",
              "       [ 0.72217308,  4.49766667],\n",
              "       [ 2.0504023 ,  0.75005748],\n",
              "       [-1.37357138,  2.98914082],\n",
              "       [ 2.05186344,  0.97349401],\n",
              "       [ 1.79669614,  0.95107383],\n",
              "       [ 0.79871293,  3.90762803],\n",
              "       [ 2.18031381,  0.57725213],\n",
              "       [ 0.63501604,  4.69394241],\n",
              "       [ 2.28573383,  1.11358738],\n",
              "       [-1.3936274 ,  2.8257383 ],\n",
              "       [-1.38721258,  2.91863644],\n",
              "       [ 1.35290022,  4.03423552],\n",
              "       [-1.86652518,  2.99533836],\n",
              "       [ 0.82228686,  4.41163717],\n",
              "       [ 1.81018042,  1.06653626],\n",
              "       [ 1.01792507,  4.49911513],\n",
              "       [-1.58045072,  2.69228   ],\n",
              "       [ 2.14051927,  1.03304527],\n",
              "       [ 2.44644998,  0.97568232],\n",
              "       [ 2.35416443,  0.48366665],\n",
              "       [ 1.430221  ,  4.01291419],\n",
              "       [-1.67082489,  2.75528366],\n",
              "       [ 1.82577379,  0.81009965],\n",
              "       [ 1.00507879,  4.59464203],\n",
              "       [ 1.36085848,  4.59989029],\n",
              "       [-1.34053434,  2.98587526],\n",
              "       [-1.58527149,  2.76558382],\n",
              "       [ 1.73867984,  1.01973954],\n",
              "       [ 1.89458559,  0.7597537 ],\n",
              "       [ 1.82403104,  1.05390328],\n",
              "       [ 2.28059471,  0.68167736],\n",
              "       [-1.66370619,  3.24979242],\n",
              "       [ 2.2373033 ,  0.9611073 ],\n",
              "       [ 1.03888362,  4.13296818],\n",
              "       [ 1.91014805,  0.62099087]])"
            ]
          },
          "metadata": {},
          "execution_count": 4
        }
      ]
    },
    {
      "cell_type": "code",
      "source": [
        "km=KMeans()"
      ],
      "metadata": {
        "id": "ulz6ewQlEUjf"
      },
      "execution_count": 5,
      "outputs": []
    },
    {
      "cell_type": "code",
      "source": [
        "import matplotlib.pyplot as plt"
      ],
      "metadata": {
        "id": "lSP66P87EaGQ"
      },
      "execution_count": 6,
      "outputs": []
    },
    {
      "cell_type": "code",
      "source": [
        "%matplotlib inline\n"
      ],
      "metadata": {
        "id": "Ho9p_EhcEgPI"
      },
      "execution_count": 7,
      "outputs": []
    },
    {
      "cell_type": "code",
      "source": [
        "plt.scatter(X[:,0],X[:,1],color=\"red\")"
      ],
      "metadata": {
        "colab": {
          "base_uri": "https://localhost:8080/",
          "height": 282
        },
        "id": "1lbr0EFsEjKn",
        "outputId": "b1604cae-f1fb-4130-fd30-61ec283c00eb"
      },
      "execution_count": 8,
      "outputs": [
        {
          "output_type": "execute_result",
          "data": {
            "text/plain": [
              "<matplotlib.collections.PathCollection at 0x7f9a2176c730>"
            ]
          },
          "metadata": {},
          "execution_count": 8
        },
        {
          "output_type": "display_data",
          "data": {
            "text/plain": [
              "<Figure size 432x288 with 1 Axes>"
            ],
            "image/png": "[encoded data removed]"
          },
          "metadata": {
            "needs_background": "light"
          }
        }
      ]
    },
    {
      "cell_type": "code",
      "source": [
        "km=KMeans(n_clusters=3)\n",
        "y_mean=km.fit_predict(X)"
      ],
      "metadata": {
        "id": "68MTlECxEsmH",
        "colab": {
          "base_uri": "https://localhost:8080/"
        },
        "outputId": "0575ba4e-0fb2-4111-eedd-228c93ae3f8b"
      },
      "execution_count": 9,
      "outputs": [
        {
          "output_type": "stream",
          "name": "stderr",
          "text": [
            "/usr/local/lib/python3.9/dist-packages/sklearn/cluster/_kmeans.py:870: FutureWarning: The default value of `n_init` will change from 10 to 'auto' in 1.4. Set the value of `n_init` explicitly to suppress the warning\n",
            "  warnings.warn(\n"
          ]
        }
      ]
    },
    {
      "cell_type": "code",
      "source": [
        "y_mean"
      ],
      "metadata": {
        "colab": {
          "base_uri": "https://localhost:8080/"
        },
        "id": "NoNRwX3GFKjg",
        "outputId": "b3403cf4-925c-4bc5-ae1a-59731d454746"
      },
      "execution_count": 10,
      "outputs": [
        {
          "output_type": "execute_result",
          "data": {
            "text/plain": [
              "array([2, 1, 1, 2, 1, 2, 0, 0, 1, 2, 1, 2, 1, 1, 1, 2, 0, 0, 1, 2, 2, 0,\n",
              "       1, 1, 2, 1, 0, 2, 2, 2, 1, 1, 2, 1, 0, 0, 1, 0, 0, 2, 0, 2, 2, 2,\n",
              "       1, 1, 1, 2, 1, 1, 1, 0, 2, 2, 2, 2, 0, 0, 1, 1, 2, 2, 1, 0, 0, 2,\n",
              "       0, 0, 2, 0, 0, 1, 1, 2, 1, 2, 0, 0, 0, 2, 2, 1, 1, 0, 0, 1, 1, 2,\n",
              "       1, 0, 2, 2, 0, 1, 0, 1, 1, 2, 2, 0, 0, 1, 2, 1, 2, 1, 0, 1, 1, 0,\n",
              "       1, 2, 0, 2, 1, 1, 1, 0, 2, 2, 0, 0, 2, 1, 0, 1, 2, 0, 2, 1, 2, 0,\n",
              "       0, 0, 1, 0, 0, 1, 0, 2, 2, 2, 1, 0, 0, 1, 2, 2, 0, 1, 0, 2, 2, 2,\n",
              "       1, 0, 0, 0, 1, 1, 2, 2, 2, 2, 1, 1, 0, 2, 0, 0, 1, 0, 1, 0, 2, 2,\n",
              "       1, 2, 1, 0, 1, 2, 0, 0, 0, 1, 2, 0, 1, 1, 2, 2, 0, 0, 0, 0, 2, 0,\n",
              "       1, 0], dtype=int32)"
            ]
          },
          "metadata": {},
          "execution_count": 10
        }
      ]
    },
    {
      "cell_type": "code",
      "source": [
        "plt.scatter(X[y_mean==0,0],X[y_mean==0,1],color=\"red\")\n",
        "plt.scatter(X[y_mean==1,0],X[y_mean==1,1],color=\"blue\")\n",
        "plt.scatter(X[y_mean==2,0],X[y_mean==2,1],color=\"green\")"
      ],
      "metadata": {
        "colab": {
          "base_uri": "https://localhost:8080/",
          "height": 282
        },
        "id": "HeMn64GJFd_k",
        "outputId": "cf60f97c-33e4-4413-8ae6-6c9189433656"
      },
      "execution_count": 11,
      "outputs": [
        {
          "output_type": "execute_result",
          "data": {
            "text/plain": [
              "<matplotlib.collections.PathCollection at 0x7f9a1d5df5b0>"
            ]
          },
          "metadata": {},
          "execution_count": 11
        },
        {
          "output_type": "display_data",
          "data": {
            "text/plain": [
              "<Figure size 432x288 with 1 Axes>"
            ],
            "image/png": "[encoded data removed]"
          },
          "metadata": {
            "needs_background": "light"
          }
        }
      ]
    },
    {
      "cell_type": "code",
      "source": [
        "centers=np.array(km.cluster_centers_)"
      ],
      "metadata": {
        "id": "Xiu8OAS5GCXA"
      },
      "execution_count": 12,
      "outputs": []
    },
    {
      "cell_type": "code",
      "source": [
        "centers"
      ],
      "metadata": {
        "colab": {
          "base_uri": "https://localhost:8080/"
        },
        "id": "NEAyZrZ_GTL4",
        "outputId": "15187360-f636-4aae-f3f0-ea1b25e0b14f"
      },
      "execution_count": 13,
      "outputs": [
        {
          "output_type": "execute_result",
          "data": {
            "text/plain": [
              "array([[ 2.03698356,  0.87115268],\n",
              "       [ 0.97205583,  4.34092473],\n",
              "       [-1.56653304,  2.90986728]])"
            ]
          },
          "metadata": {},
          "execution_count": 13
        }
      ]
    },
    {
      "cell_type": "code",
      "source": [
        "from sklearn.metrics import silhouette_samples,silhouette_score"
      ],
      "metadata": {
        "id": "VdGO7SwOGUOI"
      },
      "execution_count": 14,
      "outputs": []
    },
    {
      "cell_type": "code",
      "source": [
        "score=silhouette_score(X,km.labels_,metric=\"euclidean\")"
      ],
      "metadata": {
        "id": "MV_ds5WyGkOp"
      },
      "execution_count": 15,
      "outputs": []
    },
    {
      "cell_type": "code",
      "source": [
        "score\n"
      ],
      "metadata": {
        "colab": {
          "base_uri": "https://localhost:8080/"
        },
        "id": "oTDTjXdhG3TY",
        "outputId": "82c999a4-2d4e-419a-d5c1-d1a51e3272eb"
      },
      "execution_count": 16,
      "outputs": [
        {
          "output_type": "execute_result",
          "data": {
            "text/plain": [
              "0.8887266128357761"
            ]
          },
          "metadata": {},
          "execution_count": 16
        }
      ]
    },
    {
      "cell_type": "code",
      "source": [
        "from yellowbrick.cluster import KElbowVisualizer"
      ],
      "metadata": {
        "id": "5ekxPIjEG9K5"
      },
      "execution_count": 17,
      "outputs": []
    },
    {
      "cell_type": "code",
      "source": [
        "visuliazer=KElbowVisualizer(km,k=(1,12))\n",
        "visuliazer.fit(X)\n",
        "visuliazer.show()"
      ],
      "metadata": {
        "colab": {
          "base_uri": "https://localhost:8080/",
          "height": 795
        },
        "id": "9RCrcykAHP8g",
        "outputId": "b7153ae5-1f63-4bdc-e5c8-9d58c24c3710"
      },
      "execution_count": 18,
      "outputs": [
        {
          "output_type": "stream",
          "name": "stderr",
          "text": [
            "/usr/local/lib/python3.9/dist-packages/sklearn/cluster/_kmeans.py:870: FutureWarning: The default value of `n_init` will change from 10 to 'auto' in 1.4. Set the value of `n_init` explicitly to suppress the warning\n",
            "  warnings.warn(\n",
            "/usr/local/lib/python3.9/dist-packages/sklearn/cluster/_kmeans.py:870: FutureWarning: The default value of `n_init` will change from 10 to 'auto' in 1.4. Set the value of `n_init` explicitly to suppress the warning\n",
            "  warnings.warn(\n",
            "/usr/local/lib/python3.9/dist-packages/sklearn/cluster/_kmeans.py:870: FutureWarning: The default value of `n_init` will change from 10 to 'auto' in 1.4. Set the value of `n_init` explicitly to suppress the warning\n",
            "  warnings.warn(\n",
            "/usr/local/lib/python3.9/dist-packages/sklearn/cluster/_kmeans.py:870: FutureWarning: The default value of `n_init` will change from 10 to 'auto' in 1.4. Set the value of `n_init` explicitly to suppress the warning\n",
            "  warnings.warn(\n",
            "/usr/local/lib/python3.9/dist-packages/sklearn/cluster/_kmeans.py:870: FutureWarning: The default value of `n_init` will change from 10 to 'auto' in 1.4. Set the value of `n_init` explicitly to suppress the warning\n",
            "  warnings.warn(\n",
            "/usr/local/lib/python3.9/dist-packages/sklearn/cluster/_kmeans.py:870: FutureWarning: The default value of `n_init` will change from 10 to 'auto' in 1.4. Set the value of `n_init` explicitly to suppress the warning\n",
            "  warnings.warn(\n",
            "/usr/local/lib/python3.9/dist-packages/sklearn/cluster/_kmeans.py:870: FutureWarning: The default value of `n_init` will change from 10 to 'auto' in 1.4. Set the value of `n_init` explicitly to suppress the warning\n",
            "  warnings.warn(\n",
            "/usr/local/lib/python3.9/dist-packages/sklearn/cluster/_kmeans.py:870: FutureWarning: The default value of `n_init` will change from 10 to 'auto' in 1.4. Set the value of `n_init` explicitly to suppress the warning\n",
            "  warnings.warn(\n",
            "/usr/local/lib/python3.9/dist-packages/sklearn/cluster/_kmeans.py:870: FutureWarning: The default value of `n_init` will change from 10 to 'auto' in 1.4. Set the value of `n_init` explicitly to suppress the warning\n",
            "  warnings.warn(\n",
            "/usr/local/lib/python3.9/dist-packages/sklearn/cluster/_kmeans.py:870: FutureWarning: The default value of `n_init` will change from 10 to 'auto' in 1.4. Set the value of `n_init` explicitly to suppress the warning\n",
            "  warnings.warn(\n",
            "/usr/local/lib/python3.9/dist-packages/sklearn/cluster/_kmeans.py:870: FutureWarning: The default value of `n_init` will change from 10 to 'auto' in 1.4. Set the value of `n_init` explicitly to suppress the warning\n",
            "  warnings.warn(\n"
          ]
        },
        {
          "output_type": "display_data",
          "data": {
            "text/plain": [
              "<Figure size 576x396 with 2 Axes>"
            ],
            "image/png": "[encoded data removed]"
          },
          "metadata": {}
        },
        {
          "output_type": "execute_result",
          "data": {
            "text/plain": [
              "<Axes: title={'center': 'Distortion Score Elbow for KMeans Clustering'}, xlabel='k', ylabel='distortion score'>"
            ]
          },
          "metadata": {},
          "execution_count": 18
        }
      ]
    },
    {
      "cell_type": "code",
      "source": [
        "## class example"
      ],
      "metadata": {
        "id": "6C_3cOKfHnMB"
      },
      "execution_count": 19,
      "outputs": []
    },
    {
      "cell_type": "code",
      "source": [
        "X=np.array([[1,2],[2,1],[3,4],[8,10],[3,7],[5,6],[2,4],[7,7]])"
      ],
      "metadata": {
        "id": "ZDutizgOIKVp"
      },
      "execution_count": 20,
      "outputs": []
    },
    {
      "cell_type": "code",
      "source": [],
      "metadata": {
        "id": "aNCjHAgYIYjp"
      },
      "execution_count": 20,
      "outputs": []
    },
    {
      "cell_type": "code",
      "source": [
        "wcss"
      ],
      "metadata": {
        "colab": {
          "base_uri": "https://localhost:8080/",
          "height": 165
        },
        "id": "brhdFVz7IcXZ",
        "outputId": "776fd7dc-e325-4232-e067-fea39388cedc"
      },
      "execution_count": 21,
      "outputs": [
        {
          "output_type": "error",
          "ename": "NameError",
          "evalue": "ignored",
          "traceback": [
            "\u001b[0;31m---------------------------------------------------------------------------\u001b[0m",
            "\u001b[0;31mNameError\u001b[0m                                 Traceback (most recent call last)",
            "\u001b[0;32m<ipython-input-21-afbac70be582>\u001b[0m in \u001b[0;36m<module>\u001b[0;34m\u001b[0m\n\u001b[0;32m----> 1\u001b[0;31m \u001b[0mwcss\u001b[0m\u001b[0;34m\u001b[0m\u001b[0;34m\u001b[0m\u001b[0m\n\u001b[0m",
            "\u001b[0;31mNameError\u001b[0m: name 'wcss' is not defined"
          ]
        }
      ]
    },
    {
      "cell_type": "code",
      "source": [
        "plt.plot(range(1,6),wcss)"
      ],
      "metadata": {
        "id": "w6ctEdQLKv9Z"
      },
      "execution_count": null,
      "outputs": []
    },
    {
      "cell_type": "code",
      "source": [
        "visuliazer=KElbowVisualizer(k1,k=(1,6))\n",
        "visuliazer.fit(np.array(X))\n",
        "visuliazer.show()"
      ],
      "metadata": {
        "id": "EDBEdNciK5ah"
      },
      "execution_count": null,
      "outputs": []
    },
    {
      "cell_type": "code",
      "source": [
        "k2=KMeans(n_clusters=3,init=centeroid)"
      ],
      "metadata": {
        "id": "w-v30SKGLOHa"
      },
      "execution_count": null,
      "outputs": []
    },
    {
      "cell_type": "code",
      "source": [
        "y_mean=np.array(k2.fit_predict(X))"
      ],
      "metadata": {
        "id": "OxJI8hKvNrT6"
      },
      "execution_count": null,
      "outputs": []
    },
    {
      "cell_type": "code",
      "source": [
        "y_mean"
      ],
      "metadata": {
        "id": "riQpoyTtNtuy"
      },
      "execution_count": null,
      "outputs": []
    },
    {
      "cell_type": "code",
      "source": [
        "plt.scatter(X[y_mean==0,0],X[y_mean==0,1],color=\"red\")\n",
        "plt.scatter(X[y_mean==1,0],X[y_mean==1,1],color=\"blue\")\n",
        "plt.scatter(X[y_mean==2,0],X[y_mean==2,1],color=\"green\")"
      ],
      "metadata": {
        "id": "EPpMIeCRNwH6"
      },
      "execution_count": null,
      "outputs": []
    },
    {
      "cell_type": "code",
      "source": [],
      "metadata": {
        "id": "0qTZvYrAN4Pb"
      },
      "execution_count": null,
      "outputs": []
    }
  ]
}